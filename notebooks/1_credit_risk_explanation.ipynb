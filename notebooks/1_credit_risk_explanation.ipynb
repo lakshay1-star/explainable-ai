{
 "cells": [
  {
   "cell_type": "markdown",
   "metadata": {},
   "source": [
    "# Explainable AI (XAI) Demo: Credit Risk Assessment\n",
    "\n",
    "This notebook demonstrates how to use SHAP and LIME to interpret a `RandomForestClassifier` trained on a synthetic credit scoring dataset.\n",
    "\n",
    "**Objective:** Understand which features are most influential in the model's decision to approve or deny a loan.\n",
    "\n",
    "**Workflow:**\n",
    "1. **Load Data:** Import the credit data using our custom function.\n",
    "2. **Train Model:** Train a RandomForest model using our modular training script.\n",
    "3. **Explain with SHAP:** Generate a global summary plot to see overall feature importance.\n",
    "4. **Explain with LIME:** Explain a single prediction to understand why one specific applicant was approved or denied."
   ]
  },
  {
   "cell_type": "code",
   "execution_count": null,
   "metadata": {},
   "outputs": [],
   "source": [
    "import pandas as pd\n",
    "import sys\n",
    "import shap\n",
    "import matplotlib.pyplot as plt\n",
    "\n",
    "# Add the src directory to the Python path to import our modules\n",
    "sys.path.append('../src')\n",
    "\n",
    "from data_preprocessing import load_data\n",
    "from model_training import train_random_forest_classifier\n",
    "from explainability import get_shap_explainer, get_lime_explainer"
   ]
  },
  {
   "cell_type": "markdown",
   "metadata": {},
   "source": [
    "### 1. Load and Prepare Data"
   ]
  },
  {
   "cell_type": "code",
   "execution_count": null,
   "metadata": {},
   "outputs": [],
   "source": [
    "df = load_data('../data/credit_data.csv')\n",
    "\n",
    "# Define features (X) and target (y)\n",
    "X = df.drop('target', axis=1)\n",
    "y = df['target']\n",
    "\n",
    "X.head()"
   ]
  },
  {
   "cell_type": "markdown",
   "metadata": {},
   "source": [
    "### 2. Train the Classification Model"
   ]
  },
  {
   "cell_type": "code",
   "execution_count": null,
   "metadata": {},
   "outputs": [],
   "source": [
    "model, X_test, y_test = train_random_forest_classifier(X, y)"
   ]
  },
  {
   "cell_type": "markdown",
   "metadata": {},
   "source": [
    "### 3. Explain the Model with SHAP (Global Explanation)\n",
    "\n",
    "SHAP provides a powerful way to understand the overall importance of each feature. The summary plot below shows how much each feature contributes to the model's output."
   ]
  },
  {
   "cell_type": "code",
   "execution_count": null,
   "metadata": {},
   "outputs": [],
   "source": [
    "explainer, shap_values = get_shap_explainer(model, X_test)\n",
    "\n",
    "# Generate the SHAP summary plot\n",
    "shap.summary_plot(shap_values, X_test, plot_type=\"bar\")"
   ]
  },
  {
   "cell_type": "markdown",
   "metadata": {},
   "source": [
    "### 4. Explain a Single Prediction with LIME (Local Explanation)\n",
    "\n",
    "Now, let's pick a single instance from our test set and see why the model made the prediction it did for that specific case."
   ]
  },
  {
   "cell_type": "code",
   "execution_count": null,
   "metadata": {},
   "outputs": [],
   "source": [
    "lime_explainer = get_lime_explainer(X, class_names=['Denied', 'Approved'])\n",
    "\n",
    "# Choose a single instance to explain (e.g., the 5th instance in the test set)\n",
    "instance_to_explain = X_test.iloc[[5]]\n",
    "instance_index = 5\n",
    "\n",
    "print(f\"Model Prediction for instance {instance_index}: {'Approved' if model.predict(instance_to_explain)[0] == 1 else 'Denied'}\")\n",
    "print(f\"Actual Label: {'Approved' if y_test.iloc[instance_index] == 1 else 'Denied'}\")\n",
    "\n",
    "# Generate the LIME explanation\n",
    "explanation = lime_explainer.explain_instance(\n",
    "    data_row=instance_to_explain.values[0],\n",
    "    predict_fn=model.predict_proba,\n",
    "    num_features=5\n",
    ")\n",
    "\n",
    "explanation.show_in_notebook(show_table=True)"
   ]
  }
 ],
 "metadata": {
  "kernelspec": {
   "display_name": "Python 3",
   "language": "python",
   "name": "python3"
  },
  "language_info": {
   "name": "python",
   "version": "3.9.12"
  }
 },
 "nbformat": 4,
 "nbformat_minor": 4
}